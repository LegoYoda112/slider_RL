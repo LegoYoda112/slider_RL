{
 "cells": [
  {
   "cell_type": "code",
   "execution_count": 2,
   "metadata": {},
   "outputs": [],
   "source": [
    "from enviroments.SliderEnv import SliderEnv\n",
    "import time\n",
    "import os\n",
    "import glob\n",
    "import numpy as np \n",
    "\n",
    "from matplotlib import pyplot as plt\n",
    "\n",
    "from stable_baselines3 import PPO\n"
   ]
  },
  {
   "cell_type": "code",
   "execution_count": 18,
   "metadata": {},
   "outputs": [
    {
     "name": "stdout",
     "output_type": "stream",
     "text": [
      "Wrapping the env with a `Monitor` wrapper\n",
      "Wrapping the env in a DummyVecEnv.\n"
     ]
    },
    {
     "name": "stderr",
     "output_type": "stream",
     "text": [
      "/opt/homebrew/lib/python3.10/site-packages/gym/spaces/box.py:73: UserWarning: \u001b[33mWARN: Box bound precision lowered by casting to float32\u001b[0m\n",
      "  logger.warn(\n"
     ]
    }
   ],
   "source": [
    "\n",
    "trial_name = \"model_v15-forward3-5-3-stairs\"\n",
    "model_save_path = \"./trained_models/\" + trial_name\n",
    "\n",
    "env = SliderEnv(trial_name)\n",
    "\n",
    "model =  PPO.load(model_save_path + \"/model-49\", env=env)"
   ]
  },
  {
   "cell_type": "code",
   "execution_count": 19,
   "metadata": {},
   "outputs": [],
   "source": [
    "def trial_force(force, render = False):\n",
    "    # Reset enviroment\n",
    "    obs = env.reset()\n",
    "\n",
    "    env.purtrub_max = [0,0,0]\n",
    "    env.step_time = 1.0\n",
    "    env.max_ep_time = 100 # seconds\n",
    "\n",
    "    offset = int(np.random.random() * 100)\n",
    "\n",
    "    for i in range(300):\n",
    "\n",
    "\n",
    "        if(i == 20 + offset):\n",
    "            env.apply_force(force)\n",
    "\n",
    "        action, _state = model.predict(obs, deterministic=True)\n",
    "\n",
    "        obs, reward, done, info = env.step(action)\n",
    "\n",
    "        if render:\n",
    "            env.render()\n",
    "\n",
    "        # Fail\n",
    "        if done:\n",
    "            return False\n",
    "\n",
    "    # Sucsess    \n",
    "    return True"
   ]
  },
  {
   "attachments": {},
   "cell_type": "markdown",
   "metadata": {},
   "source": [
    "## Single axis force"
   ]
  },
  {
   "cell_type": "code",
   "execution_count": 32,
   "metadata": {},
   "outputs": [
    {
     "name": "stdout",
     "output_type": "stream",
     "text": [
      "-200.0\n",
      "0\n",
      "-189.74358974358975\n",
      "0\n",
      "-179.48717948717947\n",
      "0\n",
      "-169.23076923076923\n",
      "0\n",
      "-158.97435897435898\n",
      "0\n",
      "-148.71794871794873\n",
      "0\n",
      "-138.46153846153845\n",
      "0\n",
      "-128.2051282051282\n",
      "1\n",
      "-117.94871794871794\n",
      "0\n",
      "-107.69230769230768\n",
      "1\n",
      "-97.43589743589743\n",
      "4\n",
      "-87.17948717948717\n",
      "2\n",
      "-76.9230769230769\n",
      "5\n",
      "-66.66666666666666\n",
      "4\n",
      "-56.41025641025641\n",
      "5\n",
      "-46.15384615384613\n",
      "5\n",
      "-35.897435897435884\n",
      "5\n",
      "-25.641025641025635\n",
      "5\n",
      "-15.384615384615358\n",
      "5\n",
      "-5.12820512820511\n",
      "5\n",
      "5.128205128205138\n",
      "5\n",
      "15.384615384615415\n",
      "5\n",
      "25.641025641025664\n",
      "5\n",
      "35.89743589743591\n",
      "5\n",
      "46.15384615384619\n",
      "5\n",
      "56.41025641025641\n",
      "5\n",
      "66.66666666666669\n",
      "5\n",
      "76.92307692307696\n",
      "5\n",
      "87.17948717948718\n",
      "5\n",
      "97.43589743589746\n",
      "4\n",
      "107.69230769230774\n",
      "4\n",
      "117.94871794871796\n",
      "3\n",
      "128.20512820512823\n",
      "1\n",
      "138.4615384615385\n",
      "0\n",
      "148.71794871794873\n",
      "0\n",
      "158.974358974359\n",
      "0\n",
      "169.23076923076928\n",
      "0\n",
      "179.4871794871795\n",
      "0\n",
      "189.74358974358978\n",
      "0\n",
      "200.0\n",
      "0\n"
     ]
    }
   ],
   "source": [
    "trials_per = 5\n",
    "force_values = np.linspace(-200, 200, 40)\n",
    "sucsess_nums = np.zeros(force_values.shape)\n",
    "\n",
    "for i in range(force_values.shape[0]):\n",
    "    force_value = force_values[i]\n",
    "\n",
    "    sucsess_num_trial = 0\n",
    "    for num in range(trials_per):\n",
    "        sucsess = trial_force([force_value, 0, 0], False)\n",
    "\n",
    "        sucsess_num_trial += int(sucsess)\n",
    "\n",
    "    sucsess_nums[i] = sucsess_num_trial\n",
    "\n",
    "    print(force_value)\n",
    "    print(sucsess_num_trial)"
   ]
  },
  {
   "cell_type": "code",
   "execution_count": 30,
   "metadata": {},
   "outputs": [],
   "source": [
    "sucsess_numsA = sucsess_nums.copy()"
   ]
  },
  {
   "cell_type": "code",
   "execution_count": 33,
   "metadata": {},
   "outputs": [
    {
     "data": {
      "image/png": "[encoded data removed]",
      "text/plain": [
       "<Figure size 640x480 with 1 Axes>"
      ]
     },
     "metadata": {},
     "output_type": "display_data"
    }
   ],
   "source": [
    "\n",
    "plt.plot(force_values, sucsess_nums)\n",
    "#plt.plot(force_values, sucsess_numsA)\n",
    "plt.show()"
   ]
  },
  {
   "cell_type": "code",
   "execution_count": null,
   "metadata": {},
   "outputs": [],
   "source": []
  },
  {
   "attachments": {},
   "cell_type": "markdown",
   "metadata": {},
   "source": [
    "# Dual axis force"
   ]
  },
  {
   "cell_type": "code",
   "execution_count": 51,
   "metadata": {},
   "outputs": [
    {
     "name": "stdout",
     "output_type": "stream",
     "text": [
      "0.0\n",
      "0.03333333333333333\n",
      "0.06666666666666667\n",
      "0.1\n",
      "0.13333333333333333\n",
      "0.16666666666666666\n",
      "0.2\n",
      "0.23333333333333334\n",
      "0.26666666666666666\n",
      "0.3\n",
      "0.3333333333333333\n",
      "0.36666666666666664\n",
      "0.4\n",
      "0.43333333333333335\n",
      "0.4666666666666667\n"
     ]
    }
   ],
   "source": [
    "trials_per = 5\n",
    "force_values_x = np.linspace(-600, 600, 15)\n",
    "force_values_y = np.linspace(-600, 600, 15)\n",
    "sucsess_nums = np.zeros((force_values_x.shape[0], force_values_y.shape[0]))\n",
    "\n",
    "for i in range(force_values_x.shape[0]):\n",
    "    for j in range(force_values_y.shape[0]):\n",
    "\n",
    "        force = [force_values_x[i], force_values_y[j], 0]\n",
    "\n",
    "        sucsess_num_trial = 0\n",
    "        for num in range(trials_per):\n",
    "            sucsess = trial_force(force, False)\n",
    "\n",
    "            sucsess_num_trial += int(sucsess)\n",
    "\n",
    "        sucsess_nums[i, j] = sucsess_num_trial\n",
    "\n",
    "        #print(force)\n",
    "        #print(sucsess_num_trial)\n",
    "\n",
    "    print(i / 30.0)"
   ]
  },
  {
   "cell_type": "code",
   "execution_count": 52,
   "metadata": {},
   "outputs": [
    {
     "data": {
      "text/plain": [
       "Text(0.5, 1.0, '0.02s impulse')"
      ]
     },
     "execution_count": 52,
     "metadata": {},
     "output_type": "execute_result"
    },
    {
     "data": {
      "image/png": "[encoded data removed]",
      "text/plain": [
       "<Figure size 640x480 with 1 Axes>"
      ]
     },
     "metadata": {},
     "output_type": "display_data"
    }
   ],
   "source": [
    "plt.imshow(sucsess_nums, extent=[-600, 600, -600, 600])\n",
    "plt.title(\"0.02s impulse\")"
   ]
  }
 ],
 "metadata": {
  "kernelspec": {
   "display_name": "Python 3",
   "language": "python",
   "name": "python3"
  },
  "language_info": {
   "codemirror_mode": {
    "name": "ipython",
    "version": 3
   },
   "file_extension": ".py",
   "mimetype": "text/x-python",
   "name": "python",
   "nbconvert_exporter": "python",
   "pygments_lexer": "ipython3",
   "version": "3.10.9"
  },
  "orig_nbformat": 4
 },
 "nbformat": 4,
 "nbformat_minor": 2
}
